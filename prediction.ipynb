{
 "cells": [
  {
   "cell_type": "code",
   "execution_count": 15,
   "metadata": {},
   "outputs": [],
   "source": [
    "# Step 1: Import Libraries and Load the Model\n",
    "import numpy as np\n",
    "import tensorflow as tf\n",
    "from tensorflow.keras.datasets import imdb\n",
    "from tensorflow.keras.preprocessing import sequence\n",
    "from tensorflow.keras.models import load_model"
   ]
  },
  {
   "cell_type": "code",
   "execution_count": 16,
   "metadata": {},
   "outputs": [],
   "source": [
    "\n",
    "# Load the IMDB dataset word index\n",
    "word_index = imdb.get_word_index()\n",
    "reverse_word_index = {value: key for key, value in word_index.items()}"
   ]
  },
  {
   "cell_type": "code",
   "execution_count": 17,
   "metadata": {},
   "outputs": [
    {
     "name": "stderr",
     "output_type": "stream",
     "text": [
      "WARNING:absl:Compiled the loaded model, but the compiled metrics have yet to be built. `model.compile_metrics` will be empty until you train or evaluate the model.\n"
     ]
    },
    {
     "data": {
      "text/html": [
       "<pre style=\"white-space:pre;overflow-x:auto;line-height:normal;font-family:Menlo,'DejaVu Sans Mono',consolas,'Courier New',monospace\"><span style=\"font-weight: bold\">Model: \"sequential\"</span>\n",
       "</pre>\n"
      ],
      "text/plain": [
       "\u001b[1mModel: \"sequential\"\u001b[0m\n"
      ]
     },
     "metadata": {},
     "output_type": "display_data"
    },
    {
     "data": {
      "text/html": [
       "<pre style=\"white-space:pre;overflow-x:auto;line-height:normal;font-family:Menlo,'DejaVu Sans Mono',consolas,'Courier New',monospace\">┏━━━━━━━━━━━━━━━━━━━━━━━━━━━━━━━━━┳━━━━━━━━━━━━━━━━━━━━━━━━┳━━━━━━━━━━━━━━━┓\n",
       "┃<span style=\"font-weight: bold\"> Layer (type)                    </span>┃<span style=\"font-weight: bold\"> Output Shape           </span>┃<span style=\"font-weight: bold\">       Param # </span>┃\n",
       "┡━━━━━━━━━━━━━━━━━━━━━━━━━━━━━━━━━╇━━━━━━━━━━━━━━━━━━━━━━━━╇━━━━━━━━━━━━━━━┩\n",
       "│ embedding (<span style=\"color: #0087ff; text-decoration-color: #0087ff\">Embedding</span>)           │ (<span style=\"color: #00d7ff; text-decoration-color: #00d7ff\">None</span>, <span style=\"color: #00af00; text-decoration-color: #00af00\">500</span>, <span style=\"color: #00af00; text-decoration-color: #00af00\">128</span>)       │     <span style=\"color: #00af00; text-decoration-color: #00af00\">1,280,000</span> │\n",
       "├─────────────────────────────────┼────────────────────────┼───────────────┤\n",
       "│ simple_rnn (<span style=\"color: #0087ff; text-decoration-color: #0087ff\">SimpleRNN</span>)          │ (<span style=\"color: #00d7ff; text-decoration-color: #00d7ff\">None</span>, <span style=\"color: #00af00; text-decoration-color: #00af00\">128</span>)            │        <span style=\"color: #00af00; text-decoration-color: #00af00\">32,896</span> │\n",
       "├─────────────────────────────────┼────────────────────────┼───────────────┤\n",
       "│ dense (<span style=\"color: #0087ff; text-decoration-color: #0087ff\">Dense</span>)                   │ (<span style=\"color: #00d7ff; text-decoration-color: #00d7ff\">None</span>, <span style=\"color: #00af00; text-decoration-color: #00af00\">1</span>)              │           <span style=\"color: #00af00; text-decoration-color: #00af00\">129</span> │\n",
       "└─────────────────────────────────┴────────────────────────┴───────────────┘\n",
       "</pre>\n"
      ],
      "text/plain": [
       "┏━━━━━━━━━━━━━━━━━━━━━━━━━━━━━━━━━┳━━━━━━━━━━━━━━━━━━━━━━━━┳━━━━━━━━━━━━━━━┓\n",
       "┃\u001b[1m \u001b[0m\u001b[1mLayer (type)                   \u001b[0m\u001b[1m \u001b[0m┃\u001b[1m \u001b[0m\u001b[1mOutput Shape          \u001b[0m\u001b[1m \u001b[0m┃\u001b[1m \u001b[0m\u001b[1m      Param #\u001b[0m\u001b[1m \u001b[0m┃\n",
       "┡━━━━━━━━━━━━━━━━━━━━━━━━━━━━━━━━━╇━━━━━━━━━━━━━━━━━━━━━━━━╇━━━━━━━━━━━━━━━┩\n",
       "│ embedding (\u001b[38;5;33mEmbedding\u001b[0m)           │ (\u001b[38;5;45mNone\u001b[0m, \u001b[38;5;34m500\u001b[0m, \u001b[38;5;34m128\u001b[0m)       │     \u001b[38;5;34m1,280,000\u001b[0m │\n",
       "├─────────────────────────────────┼────────────────────────┼───────────────┤\n",
       "│ simple_rnn (\u001b[38;5;33mSimpleRNN\u001b[0m)          │ (\u001b[38;5;45mNone\u001b[0m, \u001b[38;5;34m128\u001b[0m)            │        \u001b[38;5;34m32,896\u001b[0m │\n",
       "├─────────────────────────────────┼────────────────────────┼───────────────┤\n",
       "│ dense (\u001b[38;5;33mDense\u001b[0m)                   │ (\u001b[38;5;45mNone\u001b[0m, \u001b[38;5;34m1\u001b[0m)              │           \u001b[38;5;34m129\u001b[0m │\n",
       "└─────────────────────────────────┴────────────────────────┴───────────────┘\n"
      ]
     },
     "metadata": {},
     "output_type": "display_data"
    },
    {
     "data": {
      "text/html": [
       "<pre style=\"white-space:pre;overflow-x:auto;line-height:normal;font-family:Menlo,'DejaVu Sans Mono',consolas,'Courier New',monospace\"><span style=\"font-weight: bold\"> Total params: </span><span style=\"color: #00af00; text-decoration-color: #00af00\">1,313,027</span> (5.01 MB)\n",
       "</pre>\n"
      ],
      "text/plain": [
       "\u001b[1m Total params: \u001b[0m\u001b[38;5;34m1,313,027\u001b[0m (5.01 MB)\n"
      ]
     },
     "metadata": {},
     "output_type": "display_data"
    },
    {
     "data": {
      "text/html": [
       "<pre style=\"white-space:pre;overflow-x:auto;line-height:normal;font-family:Menlo,'DejaVu Sans Mono',consolas,'Courier New',monospace\"><span style=\"font-weight: bold\"> Trainable params: </span><span style=\"color: #00af00; text-decoration-color: #00af00\">1,313,025</span> (5.01 MB)\n",
       "</pre>\n"
      ],
      "text/plain": [
       "\u001b[1m Trainable params: \u001b[0m\u001b[38;5;34m1,313,025\u001b[0m (5.01 MB)\n"
      ]
     },
     "metadata": {},
     "output_type": "display_data"
    },
    {
     "data": {
      "text/html": [
       "<pre style=\"white-space:pre;overflow-x:auto;line-height:normal;font-family:Menlo,'DejaVu Sans Mono',consolas,'Courier New',monospace\"><span style=\"font-weight: bold\"> Non-trainable params: </span><span style=\"color: #00af00; text-decoration-color: #00af00\">0</span> (0.00 B)\n",
       "</pre>\n"
      ],
      "text/plain": [
       "\u001b[1m Non-trainable params: \u001b[0m\u001b[38;5;34m0\u001b[0m (0.00 B)\n"
      ]
     },
     "metadata": {},
     "output_type": "display_data"
    },
    {
     "data": {
      "text/html": [
       "<pre style=\"white-space:pre;overflow-x:auto;line-height:normal;font-family:Menlo,'DejaVu Sans Mono',consolas,'Courier New',monospace\"><span style=\"font-weight: bold\"> Optimizer params: </span><span style=\"color: #00af00; text-decoration-color: #00af00\">2</span> (12.00 B)\n",
       "</pre>\n"
      ],
      "text/plain": [
       "\u001b[1m Optimizer params: \u001b[0m\u001b[38;5;34m2\u001b[0m (12.00 B)\n"
      ]
     },
     "metadata": {},
     "output_type": "display_data"
    }
   ],
   "source": [
    "# Load the pre-trained model with ReLU activation\n",
    "model = load_model('simple_rnn_imdb.h5')\n",
    "model.summary()"
   ]
  },
  {
   "cell_type": "code",
   "execution_count": 18,
   "metadata": {},
   "outputs": [
    {
     "data": {
      "text/plain": [
       "[array([[ 0.6771748 ,  0.75097317,  0.58997715, ..., -0.57803607,\n",
       "          0.5300043 , -0.62640864],\n",
       "        [ 0.01608584,  0.01413293, -0.02773289, ...,  0.01675974,\n",
       "         -0.00635988, -0.02969469],\n",
       "        [ 0.08612988,  0.10868615, -0.03300183, ...,  0.04956928,\n",
       "          0.11871955,  0.01877164],\n",
       "        ...,\n",
       "        [ 0.0281636 ,  0.00601699, -0.02012457, ..., -0.0322479 ,\n",
       "          0.0440059 ,  0.0638338 ],\n",
       "        [ 0.03594856,  0.00161361, -0.02055154, ..., -0.02697464,\n",
       "          0.02021157, -0.00610857],\n",
       "        [-0.03852515, -0.04612109,  0.00219178, ...,  0.00484389,\n",
       "         -0.01558105, -0.00096403]], dtype=float32),\n",
       " array([[-0.05788011, -0.11781333, -0.07899989, ...,  0.11551136,\n",
       "          0.03551213, -0.15128268],\n",
       "        [-0.08471459,  0.00818263,  0.0332923 , ..., -0.07822157,\n",
       "         -0.03744486,  0.06618396],\n",
       "        [-0.06150087, -0.13165572, -0.09869684, ...,  0.05303011,\n",
       "          0.05046628, -0.0504564 ],\n",
       "        ...,\n",
       "        [ 0.05128801, -0.17499524, -0.0505732 , ..., -0.11211303,\n",
       "         -0.03541031,  0.02722835],\n",
       "        [-0.1221115 , -0.07009884, -0.03796763, ..., -0.09668716,\n",
       "         -0.13362482,  0.01297375],\n",
       "        [ 0.02330328,  0.01624148,  0.0899195 , ..., -0.13815027,\n",
       "         -0.03709479, -0.04309637]], dtype=float32),\n",
       " array([[ 0.05080555, -0.01712861,  0.01696496, ..., -0.03129268,\n",
       "         -0.0328135 , -0.02790278],\n",
       "        [ 0.05518232, -0.03068988, -0.13869904, ..., -0.04921517,\n",
       "          0.01359467,  0.16203275],\n",
       "        [ 0.01832364,  0.08481974,  0.06888445, ...,  0.09726842,\n",
       "         -0.03311899, -0.04092883],\n",
       "        ...,\n",
       "        [-0.08432552, -0.0202499 , -0.03619125, ..., -0.1826272 ,\n",
       "         -0.00759322, -0.0597255 ],\n",
       "        [-0.12428025,  0.03816604, -0.16692616, ...,  0.12009208,\n",
       "          0.00561501, -0.069407  ],\n",
       "        [ 0.00284569, -0.00128276, -0.13824628, ..., -0.03158541,\n",
       "          0.11710747, -0.01480731]], dtype=float32),\n",
       " array([-2.88758241e-02, -2.40478460e-02, -2.59124096e-02, -1.52816260e-02,\n",
       "         5.80035709e-02,  3.67931798e-02, -2.27983724e-02,  4.30981512e-04,\n",
       "         2.69291233e-02, -3.48084234e-02,  3.79653312e-02,  3.27090709e-03,\n",
       "         3.18374112e-02, -5.29009774e-02, -2.20761690e-02,  4.56633829e-02,\n",
       "        -1.46718137e-02,  3.01341759e-03, -4.41028997e-02,  1.00692967e-02,\n",
       "        -2.18666997e-02, -2.60919388e-02, -1.37778847e-02,  2.96182409e-02,\n",
       "        -3.21291685e-02, -2.53849458e-02, -1.06934113e-02, -2.18186080e-02,\n",
       "         1.17791817e-02, -2.20494196e-02,  1.71402222e-04,  1.56789068e-02,\n",
       "        -1.04408124e-02, -2.37588622e-02, -1.43813593e-02, -1.61512829e-02,\n",
       "        -6.63172361e-03, -2.51668189e-02,  3.51182334e-02,  2.42800675e-02,\n",
       "        -2.99954787e-02,  1.30414008e-03, -2.52054613e-02,  8.48145504e-03,\n",
       "        -2.68124454e-02, -1.90761834e-02, -2.67588464e-03, -1.13478629e-02,\n",
       "        -1.22100925e-02, -3.01643740e-02, -4.28087674e-02, -1.37354946e-02,\n",
       "        -1.60777047e-02,  3.86573747e-02, -4.47807945e-02,  5.17660286e-03,\n",
       "         3.39831039e-02,  1.08289059e-04,  4.63001765e-02, -7.59916706e-03,\n",
       "        -2.92596929e-02, -3.40505876e-02, -1.57359596e-02,  8.36853683e-03,\n",
       "        -7.81363994e-03,  1.27654234e-02,  1.36382440e-02,  3.07971388e-02,\n",
       "        -4.72547561e-02, -2.86492165e-02, -9.16390400e-03,  1.17922919e-02,\n",
       "         7.74656655e-03,  3.05756885e-06,  4.47913185e-02,  5.53623075e-04,\n",
       "        -1.55386459e-02, -2.01551598e-02,  3.79166082e-02, -6.24001697e-02,\n",
       "         1.25086317e-02, -1.47990314e-02, -1.77983195e-02, -2.11993475e-02,\n",
       "        -1.91370547e-02, -5.49479723e-02, -3.11313774e-02,  1.33024417e-02,\n",
       "        -3.45816761e-02, -4.55776602e-02, -1.69770177e-02,  2.41094921e-03,\n",
       "         1.43390251e-02, -1.41952327e-03,  2.71607284e-02, -3.83294486e-02,\n",
       "        -1.25854062e-02, -4.52981107e-02,  1.62423439e-02, -3.95812914e-02,\n",
       "         3.74029167e-02,  8.47421470e-04, -2.48048976e-02, -1.05843227e-02,\n",
       "        -1.32985488e-02, -3.43524329e-02, -3.38607803e-02,  3.37519646e-02,\n",
       "        -2.05315296e-02, -3.10441349e-02,  1.30185578e-02, -1.66103262e-02,\n",
       "         3.20392326e-02, -2.76062116e-02, -2.21950915e-02,  1.72614015e-03,\n",
       "        -2.03361679e-02, -1.58664007e-02, -3.45919700e-03, -9.52348206e-03,\n",
       "        -4.02069911e-02,  1.86287274e-03, -1.29811708e-02, -2.39975527e-02,\n",
       "        -3.53594497e-02, -1.39758727e-02, -6.21369248e-03, -2.45018620e-02],\n",
       "       dtype=float32),\n",
       " array([[-0.2293619 ],\n",
       "        [-0.12375547],\n",
       "        [-0.05837002],\n",
       "        [ 0.02115328],\n",
       "        [-0.25163254],\n",
       "        [ 0.05913293],\n",
       "        [-0.11725519],\n",
       "        [ 0.13106798],\n",
       "        [-0.01572939],\n",
       "        [-0.19563313],\n",
       "        [-0.17730163],\n",
       "        [ 0.22670847],\n",
       "        [ 0.01714157],\n",
       "        [-0.09781273],\n",
       "        [-0.14171462],\n",
       "        [-0.1714833 ],\n",
       "        [-0.11245285],\n",
       "        [-0.17426082],\n",
       "        [ 0.08258308],\n",
       "        [ 0.08816715],\n",
       "        [-0.64947516],\n",
       "        [-0.24227928],\n",
       "        [ 0.03584617],\n",
       "        [ 0.08510467],\n",
       "        [-0.12395352],\n",
       "        [ 0.12301935],\n",
       "        [ 0.01872034],\n",
       "        [-0.23449358],\n",
       "        [-0.22920558],\n",
       "        [ 0.18305528],\n",
       "        [-0.04988116],\n",
       "        [-0.21377906],\n",
       "        [-0.20545486],\n",
       "        [ 0.04202232],\n",
       "        [-0.22348067],\n",
       "        [ 0.15930545],\n",
       "        [ 0.00199123],\n",
       "        [-0.05565323],\n",
       "        [ 0.23884724],\n",
       "        [-0.13786648],\n",
       "        [ 0.08121424],\n",
       "        [ 0.11672618],\n",
       "        [-0.00626302],\n",
       "        [ 0.23682266],\n",
       "        [-0.23731193],\n",
       "        [-0.05343334],\n",
       "        [-0.18002094],\n",
       "        [ 0.29098508],\n",
       "        [ 0.11676477],\n",
       "        [ 0.13238655],\n",
       "        [-0.00357485],\n",
       "        [-0.1732386 ],\n",
       "        [ 0.17694695],\n",
       "        [-0.2053051 ],\n",
       "        [ 0.04764648],\n",
       "        [-0.23571408],\n",
       "        [-0.19253735],\n",
       "        [-0.43251222],\n",
       "        [ 0.12354656],\n",
       "        [ 0.04759681],\n",
       "        [ 0.21399653],\n",
       "        [-0.01725349],\n",
       "        [ 0.17597169],\n",
       "        [ 0.00553428],\n",
       "        [ 0.08752587],\n",
       "        [-0.08849496],\n",
       "        [ 0.05882001],\n",
       "        [ 0.05546873],\n",
       "        [ 0.18212393],\n",
       "        [-0.01905994],\n",
       "        [-0.20381434],\n",
       "        [ 0.10660481],\n",
       "        [ 0.03932345],\n",
       "        [ 0.0335709 ],\n",
       "        [ 0.16937162],\n",
       "        [ 0.12738533],\n",
       "        [-0.32903007],\n",
       "        [-0.22647655],\n",
       "        [ 0.2178643 ],\n",
       "        [ 0.09796774],\n",
       "        [-0.29402697],\n",
       "        [ 0.07579035],\n",
       "        [-0.12884139],\n",
       "        [ 0.11511957],\n",
       "        [-0.05734984],\n",
       "        [ 0.06879765],\n",
       "        [ 0.01253208],\n",
       "        [-0.02358046],\n",
       "        [-0.20960717],\n",
       "        [ 0.00246469],\n",
       "        [-0.16273516],\n",
       "        [ 0.02022252],\n",
       "        [-0.19745721],\n",
       "        [-0.3192329 ],\n",
       "        [ 0.20141256],\n",
       "        [-0.23976856],\n",
       "        [ 0.11500575],\n",
       "        [ 0.11900081],\n",
       "        [ 0.10566346],\n",
       "        [ 0.067005  ],\n",
       "        [ 0.2098085 ],\n",
       "        [-0.15940312],\n",
       "        [ 0.00618789],\n",
       "        [-0.13131776],\n",
       "        [-0.18926421],\n",
       "        [-0.0466652 ],\n",
       "        [-0.18871853],\n",
       "        [ 0.10031193],\n",
       "        [-0.03766169],\n",
       "        [ 0.10500653],\n",
       "        [-0.14125216],\n",
       "        [ 0.15311788],\n",
       "        [-0.2245924 ],\n",
       "        [ 0.04323072],\n",
       "        [-0.20633854],\n",
       "        [-0.17628476],\n",
       "        [-0.12708794],\n",
       "        [-0.13609953],\n",
       "        [-0.02233349],\n",
       "        [-0.21659298],\n",
       "        [ 0.00487891],\n",
       "        [ 0.17553125],\n",
       "        [-0.09406032],\n",
       "        [-0.13595234],\n",
       "        [ 0.12458544],\n",
       "        [-0.00609467],\n",
       "        [ 0.2267866 ],\n",
       "        [-0.13678251]], dtype=float32),\n",
       " array([-0.13765185], dtype=float32)]"
      ]
     },
     "execution_count": 18,
     "metadata": {},
     "output_type": "execute_result"
    }
   ],
   "source": [
    "model.get_weights()"
   ]
  },
  {
   "cell_type": "code",
   "execution_count": 25,
   "metadata": {},
   "outputs": [],
   "source": [
    "# Step 2: Helper Functions\n",
    "# Function to decode reviews\n",
    "def decode_review(encoded_review):\n",
    "    return ' '.join([reverse_word_index.get(i - 3, '?') for i in encoded_review])\n",
    "\n",
    "# Function to preprocess user input\n",
    "def preprocess_text(text):\n",
    "    words = text.lower().split()\n",
    "    encoded_review = [word_index.get(word, 2) + 3 for word in words]\n",
    "    padded_review = sequence.pad_sequences([encoded_review], maxlen=500)\n",
    "    padded_review = np.clip(padded_review, 0, 9999)\n",
    "    return padded_review"
   ]
  },
  {
   "cell_type": "code",
   "execution_count": null,
   "metadata": {},
   "outputs": [],
   "source": [
    "### Prediction  function\n",
    "\n",
    "def predict_sentiment(review):\n",
    "    preprocessed_input=preprocess_text(review)\n",
    "\n",
    "    prediction=model.predict(preprocessed_input)\n",
    "\n",
    "    sentiment = 'Positive' if prediction[0][0] > 0.6 else 'Mixed' if prediction[0][0] > 0.45  else 'Negative'\n",
    "    \n",
    "    return sentiment, prediction[0][0]\n",
    "\n"
   ]
  },
  {
   "cell_type": "code",
   "execution_count": 39,
   "metadata": {},
   "outputs": [
    {
     "name": "stdout",
     "output_type": "stream",
     "text": [
      "\u001b[1m1/1\u001b[0m \u001b[32m━━━━━━━━━━━━━━━━━━━━\u001b[0m\u001b[37m\u001b[0m \u001b[1m0s\u001b[0m 43ms/step\n",
      "Review: The movie was average...but the plot isn't satisfactory. wasted my two hours\n",
      "Sentiment: Not Bad\n",
      "Prediction Score: 0.46285879611968994\n"
     ]
    }
   ],
   "source": [
    "# Step 4: User Input and Prediction\n",
    "# Example review for prediction\n",
    "example_review = \"The movie was average...but the plot isn't satisfactory. wasted my two hours\"\n",
    "\n",
    "sentiment,score=predict_sentiment(example_review)\n",
    "\n",
    "print(f'Review: {example_review}')\n",
    "print(f'Sentiment: {sentiment}')\n",
    "print(f'Prediction Score: {score}')"
   ]
  },
  {
   "cell_type": "code",
   "execution_count": null,
   "metadata": {},
   "outputs": [],
   "source": []
  }
 ],
 "metadata": {
  "kernelspec": {
   "display_name": "Python 3",
   "language": "python",
   "name": "python3"
  },
  "language_info": {
   "codemirror_mode": {
    "name": "ipython",
    "version": 3
   },
   "file_extension": ".py",
   "mimetype": "text/x-python",
   "name": "python",
   "nbconvert_exporter": "python",
   "pygments_lexer": "ipython3",
   "version": "3.11.0"
  }
 },
 "nbformat": 4,
 "nbformat_minor": 2
}
