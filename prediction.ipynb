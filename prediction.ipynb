{
 "cells": [
  {
   "cell_type": "code",
   "execution_count": 1,
   "metadata": {},
   "outputs": [],
   "source": [
    "# Step 1: Import Libraries and Load the Model\n",
    "import numpy as np\n",
    "import tensorflow as tf\n",
    "from tensorflow.keras.datasets import imdb\n",
    "from tensorflow.keras.preprocessing import sequence\n",
    "from tensorflow.keras.models import load_model"
   ]
  },
  {
   "cell_type": "code",
   "execution_count": 2,
   "metadata": {},
   "outputs": [],
   "source": [
    "\n",
    "# Load the IMDB dataset word index\n",
    "word_index = imdb.get_word_index()\n",
    "reverse_word_index = {value: key for key, value in word_index.items()}"
   ]
  },
  {
   "cell_type": "code",
   "execution_count": 3,
   "metadata": {},
   "outputs": [
    {
     "name": "stderr",
     "output_type": "stream",
     "text": [
      "WARNING:absl:Compiled the loaded model, but the compiled metrics have yet to be built. `model.compile_metrics` will be empty until you train or evaluate the model.\n"
     ]
    },
    {
     "data": {
      "text/html": [
       "<pre style=\"white-space:pre;overflow-x:auto;line-height:normal;font-family:Menlo,'DejaVu Sans Mono',consolas,'Courier New',monospace\"><span style=\"font-weight: bold\">Model: \"sequential\"</span>\n",
       "</pre>\n"
      ],
      "text/plain": [
       "\u001b[1mModel: \"sequential\"\u001b[0m\n"
      ]
     },
     "metadata": {},
     "output_type": "display_data"
    },
    {
     "data": {
      "text/html": [
       "<pre style=\"white-space:pre;overflow-x:auto;line-height:normal;font-family:Menlo,'DejaVu Sans Mono',consolas,'Courier New',monospace\">┏━━━━━━━━━━━━━━━━━━━━━━━━━━━━━━━━━┳━━━━━━━━━━━━━━━━━━━━━━━━┳━━━━━━━━━━━━━━━┓\n",
       "┃<span style=\"font-weight: bold\"> Layer (type)                    </span>┃<span style=\"font-weight: bold\"> Output Shape           </span>┃<span style=\"font-weight: bold\">       Param # </span>┃\n",
       "┡━━━━━━━━━━━━━━━━━━━━━━━━━━━━━━━━━╇━━━━━━━━━━━━━━━━━━━━━━━━╇━━━━━━━━━━━━━━━┩\n",
       "│ embedding (<span style=\"color: #0087ff; text-decoration-color: #0087ff\">Embedding</span>)           │ (<span style=\"color: #00d7ff; text-decoration-color: #00d7ff\">None</span>, <span style=\"color: #00af00; text-decoration-color: #00af00\">500</span>, <span style=\"color: #00af00; text-decoration-color: #00af00\">128</span>)       │     <span style=\"color: #00af00; text-decoration-color: #00af00\">1,280,000</span> │\n",
       "├─────────────────────────────────┼────────────────────────┼───────────────┤\n",
       "│ simple_rnn (<span style=\"color: #0087ff; text-decoration-color: #0087ff\">SimpleRNN</span>)          │ (<span style=\"color: #00d7ff; text-decoration-color: #00d7ff\">None</span>, <span style=\"color: #00af00; text-decoration-color: #00af00\">128</span>)            │        <span style=\"color: #00af00; text-decoration-color: #00af00\">32,896</span> │\n",
       "├─────────────────────────────────┼────────────────────────┼───────────────┤\n",
       "│ dense (<span style=\"color: #0087ff; text-decoration-color: #0087ff\">Dense</span>)                   │ (<span style=\"color: #00d7ff; text-decoration-color: #00d7ff\">None</span>, <span style=\"color: #00af00; text-decoration-color: #00af00\">1</span>)              │           <span style=\"color: #00af00; text-decoration-color: #00af00\">129</span> │\n",
       "└─────────────────────────────────┴────────────────────────┴───────────────┘\n",
       "</pre>\n"
      ],
      "text/plain": [
       "┏━━━━━━━━━━━━━━━━━━━━━━━━━━━━━━━━━┳━━━━━━━━━━━━━━━━━━━━━━━━┳━━━━━━━━━━━━━━━┓\n",
       "┃\u001b[1m \u001b[0m\u001b[1mLayer (type)                   \u001b[0m\u001b[1m \u001b[0m┃\u001b[1m \u001b[0m\u001b[1mOutput Shape          \u001b[0m\u001b[1m \u001b[0m┃\u001b[1m \u001b[0m\u001b[1m      Param #\u001b[0m\u001b[1m \u001b[0m┃\n",
       "┡━━━━━━━━━━━━━━━━━━━━━━━━━━━━━━━━━╇━━━━━━━━━━━━━━━━━━━━━━━━╇━━━━━━━━━━━━━━━┩\n",
       "│ embedding (\u001b[38;5;33mEmbedding\u001b[0m)           │ (\u001b[38;5;45mNone\u001b[0m, \u001b[38;5;34m500\u001b[0m, \u001b[38;5;34m128\u001b[0m)       │     \u001b[38;5;34m1,280,000\u001b[0m │\n",
       "├─────────────────────────────────┼────────────────────────┼───────────────┤\n",
       "│ simple_rnn (\u001b[38;5;33mSimpleRNN\u001b[0m)          │ (\u001b[38;5;45mNone\u001b[0m, \u001b[38;5;34m128\u001b[0m)            │        \u001b[38;5;34m32,896\u001b[0m │\n",
       "├─────────────────────────────────┼────────────────────────┼───────────────┤\n",
       "│ dense (\u001b[38;5;33mDense\u001b[0m)                   │ (\u001b[38;5;45mNone\u001b[0m, \u001b[38;5;34m1\u001b[0m)              │           \u001b[38;5;34m129\u001b[0m │\n",
       "└─────────────────────────────────┴────────────────────────┴───────────────┘\n"
      ]
     },
     "metadata": {},
     "output_type": "display_data"
    },
    {
     "data": {
      "text/html": [
       "<pre style=\"white-space:pre;overflow-x:auto;line-height:normal;font-family:Menlo,'DejaVu Sans Mono',consolas,'Courier New',monospace\"><span style=\"font-weight: bold\"> Total params: </span><span style=\"color: #00af00; text-decoration-color: #00af00\">1,313,027</span> (5.01 MB)\n",
       "</pre>\n"
      ],
      "text/plain": [
       "\u001b[1m Total params: \u001b[0m\u001b[38;5;34m1,313,027\u001b[0m (5.01 MB)\n"
      ]
     },
     "metadata": {},
     "output_type": "display_data"
    },
    {
     "data": {
      "text/html": [
       "<pre style=\"white-space:pre;overflow-x:auto;line-height:normal;font-family:Menlo,'DejaVu Sans Mono',consolas,'Courier New',monospace\"><span style=\"font-weight: bold\"> Trainable params: </span><span style=\"color: #00af00; text-decoration-color: #00af00\">1,313,025</span> (5.01 MB)\n",
       "</pre>\n"
      ],
      "text/plain": [
       "\u001b[1m Trainable params: \u001b[0m\u001b[38;5;34m1,313,025\u001b[0m (5.01 MB)\n"
      ]
     },
     "metadata": {},
     "output_type": "display_data"
    },
    {
     "data": {
      "text/html": [
       "<pre style=\"white-space:pre;overflow-x:auto;line-height:normal;font-family:Menlo,'DejaVu Sans Mono',consolas,'Courier New',monospace\"><span style=\"font-weight: bold\"> Non-trainable params: </span><span style=\"color: #00af00; text-decoration-color: #00af00\">0</span> (0.00 B)\n",
       "</pre>\n"
      ],
      "text/plain": [
       "\u001b[1m Non-trainable params: \u001b[0m\u001b[38;5;34m0\u001b[0m (0.00 B)\n"
      ]
     },
     "metadata": {},
     "output_type": "display_data"
    },
    {
     "data": {
      "text/html": [
       "<pre style=\"white-space:pre;overflow-x:auto;line-height:normal;font-family:Menlo,'DejaVu Sans Mono',consolas,'Courier New',monospace\"><span style=\"font-weight: bold\"> Optimizer params: </span><span style=\"color: #00af00; text-decoration-color: #00af00\">2</span> (12.00 B)\n",
       "</pre>\n"
      ],
      "text/plain": [
       "\u001b[1m Optimizer params: \u001b[0m\u001b[38;5;34m2\u001b[0m (12.00 B)\n"
      ]
     },
     "metadata": {},
     "output_type": "display_data"
    }
   ],
   "source": [
    "# Load the pre-trained model with ReLU activation\n",
    "model = load_model('simple_rnn_imdb.h5')\n",
    "model.summary()"
   ]
  },
  {
   "cell_type": "code",
   "execution_count": 4,
   "metadata": {},
   "outputs": [
    {
     "data": {
      "text/plain": [
       "[array([[ 0.11529946,  0.0329736 ,  0.14089891, ...,  0.12236039,\n",
       "         -0.15801872,  0.22094113],\n",
       "        [ 0.06277196, -0.00632011, -0.07744882, ...,  0.01559251,\n",
       "          0.02230345, -0.0390333 ],\n",
       "        [ 0.11775057, -0.02640201,  0.12344547, ...,  0.04762902,\n",
       "         -0.02102087,  0.0899864 ],\n",
       "        ...,\n",
       "        [-0.02150223,  0.07318254,  0.02923734, ..., -0.0569008 ,\n",
       "         -0.09730062,  0.04156292],\n",
       "        [-0.08710062, -0.08807247, -0.09092816, ...,  0.10482027,\n",
       "          0.0678559 , -0.07875916],\n",
       "        [-0.11797038,  0.06676605,  0.07530833, ..., -0.08371713,\n",
       "         -0.11344908,  0.05432166]], dtype=float32),\n",
       " array([[-0.11951579, -0.14113887, -0.10626325, ...,  0.01613268,\n",
       "         -0.02417597, -0.10195208],\n",
       "        [-0.05648563, -0.07302415, -0.0767168 , ...,  0.09963535,\n",
       "          0.17337042,  0.08221893],\n",
       "        [-0.16353741, -0.01463618, -0.184388  , ..., -0.01742909,\n",
       "         -0.13499969,  0.07150269],\n",
       "        ...,\n",
       "        [-0.08579827, -0.11311822, -0.07670674, ..., -0.02952421,\n",
       "         -0.05487829, -0.04287159],\n",
       "        [-0.11971479, -0.15297593,  0.05036302, ..., -0.01459775,\n",
       "         -0.20568062, -0.12475122],\n",
       "        [-0.15875322,  0.03480866, -0.17024837, ..., -0.05234366,\n",
       "         -0.02168926, -0.14926898]], dtype=float32),\n",
       " array([[-2.20559109e-02, -4.79715057e-02,  2.51600385e-01, ...,\n",
       "          2.00550742e-02, -1.47333359e-02,  2.78917614e-05],\n",
       "        [ 1.11076273e-02, -1.00426547e-01, -3.12364325e-02, ...,\n",
       "          1.28663965e-02,  1.07880607e-01, -1.81482270e-01],\n",
       "        [ 8.08161125e-02, -1.31272823e-01,  1.14222810e-01, ...,\n",
       "          1.14227965e-01, -1.25009790e-01, -1.86624285e-03],\n",
       "        ...,\n",
       "        [ 8.38826448e-02, -1.28864244e-01,  9.98987257e-02, ...,\n",
       "         -6.52881339e-02, -1.39389541e-02,  2.34503485e-02],\n",
       "        [-2.40429342e-02,  2.91254721e-03,  6.57518655e-02, ...,\n",
       "         -6.32542595e-02, -9.30517614e-02,  2.00765505e-01],\n",
       "        [-1.07082576e-01,  1.98100626e-01, -2.40799971e-02, ...,\n",
       "         -6.40337542e-03, -2.84296963e-02, -8.99554268e-02]], dtype=float32),\n",
       " array([-2.09332500e-02, -1.80178732e-02, -2.16010381e-02, -1.63742583e-02,\n",
       "        -2.23767050e-02, -4.90843691e-03, -4.37094644e-03, -1.68757979e-02,\n",
       "        -9.95821599e-03, -3.66508286e-03,  7.55695859e-03, -4.36094478e-02,\n",
       "         1.86831560e-02, -6.55955821e-03,  4.94302157e-03,  2.67212633e-02,\n",
       "        -4.37988108e-03, -1.02522271e-02, -1.43425334e-02, -1.81999567e-04,\n",
       "        -2.62939669e-02, -1.34757021e-02, -1.92194749e-02, -4.71588857e-02,\n",
       "        -3.08442190e-02, -2.26825066e-02, -3.95576283e-02, -3.43407914e-02,\n",
       "        -3.41404267e-02, -1.59150511e-02,  1.22618563e-02, -1.18069118e-02,\n",
       "        -1.58612132e-02, -9.79479868e-03, -2.97754351e-02, -1.55804874e-02,\n",
       "         1.51104899e-02, -3.58068459e-02, -1.95114780e-02, -3.64698879e-02,\n",
       "        -1.94978323e-02, -5.78997135e-02, -1.74758080e-02, -2.40942556e-02,\n",
       "        -7.10882712e-03, -7.71078933e-03, -2.07724348e-02, -2.62158811e-02,\n",
       "        -3.73807140e-02, -7.73574738e-03, -2.57624444e-02, -5.96422516e-03,\n",
       "        -3.93784791e-03, -9.24640568e-04,  7.41889840e-03, -1.04021654e-02,\n",
       "        -3.05441432e-02, -1.73787568e-02, -1.39320958e-02, -2.26427056e-02,\n",
       "         2.66668922e-03, -2.50328109e-02, -2.57988069e-02, -3.41840237e-02,\n",
       "        -6.38050912e-03,  5.82926953e-03, -8.06042738e-03, -2.09242124e-02,\n",
       "        -2.26580091e-02, -2.34347489e-02, -1.26750600e-02,  6.69652037e-03,\n",
       "        -1.12660956e-02, -5.31056779e-04,  1.68993659e-02,  4.75021973e-02,\n",
       "        -2.91703120e-02, -2.23105606e-02, -1.74869094e-02, -2.70857662e-02,\n",
       "        -1.01790996e-02, -7.93596543e-03, -2.08633654e-02,  1.79880299e-02,\n",
       "        -3.40938196e-02,  3.65913074e-05, -2.76181884e-02, -1.61082726e-02,\n",
       "        -2.56990418e-02, -3.10809519e-02, -1.44551760e-02, -1.10939685e-02,\n",
       "        -6.14138646e-03,  8.76701670e-04, -1.22247934e-02, -3.25303413e-02,\n",
       "        -4.59469557e-02, -1.97556671e-02, -3.54768075e-02, -1.13767544e-02,\n",
       "        -2.40554754e-02,  2.98102270e-03,  9.25734453e-03, -2.64065191e-02,\n",
       "         3.15722674e-02, -2.05195230e-02, -3.29893059e-03, -1.82614252e-02,\n",
       "        -1.75512154e-02, -8.13978259e-03, -1.45277800e-02, -2.46928632e-02,\n",
       "         6.14363526e-04, -1.68474894e-02, -2.26821247e-02, -4.01913235e-03,\n",
       "         1.77399546e-03, -2.71424595e-02, -3.30258384e-02, -2.98317131e-02,\n",
       "        -2.30922159e-02, -1.73182860e-02, -9.95897409e-03, -2.55177524e-02,\n",
       "        -9.96437948e-03, -7.47783529e-03,  9.43346135e-03, -8.49724654e-03],\n",
       "       dtype=float32),\n",
       " array([[-0.14174695],\n",
       "        [ 0.02010655],\n",
       "        [-0.32886446],\n",
       "        [-0.05247948],\n",
       "        [-0.24686721],\n",
       "        [ 0.06180622],\n",
       "        [ 0.23656124],\n",
       "        [ 0.20629632],\n",
       "        [-0.24956512],\n",
       "        [-0.24059078],\n",
       "        [-0.0167208 ],\n",
       "        [-0.01658593],\n",
       "        [ 0.12166679],\n",
       "        [-0.25641263],\n",
       "        [-0.23465015],\n",
       "        [ 0.23415077],\n",
       "        [-0.02081073],\n",
       "        [ 0.078824  ],\n",
       "        [-0.27599338],\n",
       "        [-0.11985315],\n",
       "        [ 0.193034  ],\n",
       "        [ 0.17953973],\n",
       "        [-0.14079992],\n",
       "        [ 0.20964445],\n",
       "        [ 0.0206081 ],\n",
       "        [-0.00549066],\n",
       "        [ 0.00303571],\n",
       "        [-0.02936705],\n",
       "        [-0.10646215],\n",
       "        [ 0.14075571],\n",
       "        [-0.10282389],\n",
       "        [ 0.20605531],\n",
       "        [-0.04591229],\n",
       "        [-0.0651646 ],\n",
       "        [ 0.04657763],\n",
       "        [ 0.17047638],\n",
       "        [ 0.03980801],\n",
       "        [-0.14569321],\n",
       "        [ 0.25707293],\n",
       "        [-0.15550597],\n",
       "        [ 0.13971764],\n",
       "        [ 0.13388948],\n",
       "        [-0.22936691],\n",
       "        [ 0.0193391 ],\n",
       "        [-0.01477456],\n",
       "        [ 0.162295  ],\n",
       "        [-0.18257579],\n",
       "        [-0.12060101],\n",
       "        [-0.1659787 ],\n",
       "        [ 0.14356011],\n",
       "        [-0.2549853 ],\n",
       "        [-0.24281073],\n",
       "        [-0.23335247],\n",
       "        [ 0.16117778],\n",
       "        [ 0.17781074],\n",
       "        [ 0.01323404],\n",
       "        [-0.2691558 ],\n",
       "        [-0.22880472],\n",
       "        [-0.23250903],\n",
       "        [-0.17363179],\n",
       "        [ 0.13824007],\n",
       "        [ 0.14606802],\n",
       "        [ 0.16663069],\n",
       "        [-0.13812529],\n",
       "        [-0.2890557 ],\n",
       "        [-0.17634764],\n",
       "        [ 0.12928341],\n",
       "        [ 0.24879353],\n",
       "        [-0.02089442],\n",
       "        [-0.04320145],\n",
       "        [ 0.31233323],\n",
       "        [-0.07534032],\n",
       "        [-0.21814682],\n",
       "        [ 0.03115311],\n",
       "        [-0.22449481],\n",
       "        [ 0.17193484],\n",
       "        [ 0.1192201 ],\n",
       "        [-0.42978227],\n",
       "        [-0.13652635],\n",
       "        [-0.15948448],\n",
       "        [ 0.21860726],\n",
       "        [ 0.03859518],\n",
       "        [-0.13161266],\n",
       "        [-0.07973311],\n",
       "        [ 0.41243   ],\n",
       "        [-0.1200486 ],\n",
       "        [ 0.131721  ],\n",
       "        [-0.01142342],\n",
       "        [ 0.04954922],\n",
       "        [ 0.40889207],\n",
       "        [ 0.01493636],\n",
       "        [ 0.02310288],\n",
       "        [ 0.20670506],\n",
       "        [-0.26866865],\n",
       "        [-0.06647328],\n",
       "        [ 0.04971313],\n",
       "        [-0.0516836 ],\n",
       "        [ 0.15206209],\n",
       "        [ 0.3136393 ],\n",
       "        [ 0.20064034],\n",
       "        [ 0.04038871],\n",
       "        [-0.19115177],\n",
       "        [ 0.16225219],\n",
       "        [-0.04194864],\n",
       "        [-0.0053144 ],\n",
       "        [ 0.06836282],\n",
       "        [-0.27036038],\n",
       "        [ 0.32668   ],\n",
       "        [-0.2784222 ],\n",
       "        [-0.3410902 ],\n",
       "        [-0.16622119],\n",
       "        [ 0.09587833],\n",
       "        [-0.43869334],\n",
       "        [ 0.13522264],\n",
       "        [-0.0691397 ],\n",
       "        [-0.06969334],\n",
       "        [-0.21695352],\n",
       "        [ 0.23810668],\n",
       "        [-0.22352505],\n",
       "        [ 0.17337814],\n",
       "        [-0.08389848],\n",
       "        [ 0.07421624],\n",
       "        [-0.29889327],\n",
       "        [-0.10837716],\n",
       "        [ 0.00064301],\n",
       "        [-0.08038742],\n",
       "        [ 0.10171992],\n",
       "        [-0.29843214]], dtype=float32),\n",
       " array([0.18134195], dtype=float32)]"
      ]
     },
     "execution_count": 4,
     "metadata": {},
     "output_type": "execute_result"
    }
   ],
   "source": [
    "model.get_weights()"
   ]
  },
  {
   "cell_type": "code",
   "execution_count": 5,
   "metadata": {},
   "outputs": [],
   "source": [
    "# Step 2: Helper Functions\n",
    "# Function to decode reviews\n",
    "def decode_review(encoded_review):\n",
    "    return ' '.join([reverse_word_index.get(i - 3, '?') for i in encoded_review])\n",
    "\n",
    "# Function to preprocess user input\n",
    "def preprocess_text(text):\n",
    "    words = text.lower().split()\n",
    "    encoded_review = [word_index.get(word, 2) + 3 for word in words]\n",
    "    padded_review = sequence.pad_sequences([encoded_review], maxlen=500)\n",
    "    return padded_review"
   ]
  },
  {
   "cell_type": "code",
   "execution_count": 6,
   "metadata": {},
   "outputs": [],
   "source": [
    "### Prediction  function\n",
    "\n",
    "def predict_sentiment(review):\n",
    "    preprocessed_input=preprocess_text(review)\n",
    "\n",
    "    prediction=model.predict(preprocessed_input)\n",
    "\n",
    "    sentiment = 'Positive' if prediction[0][0] > 0.5 else 'Negative'\n",
    "    \n",
    "    return sentiment, prediction[0][0]\n",
    "\n"
   ]
  },
  {
   "cell_type": "code",
   "execution_count": 7,
   "metadata": {},
   "outputs": [
    {
     "name": "stdout",
     "output_type": "stream",
     "text": [
      "\u001b[1m1/1\u001b[0m \u001b[32m━━━━━━━━━━━━━━━━━━━━\u001b[0m\u001b[37m\u001b[0m \u001b[1m0s\u001b[0m 151ms/step\n",
      "Review: This movie was fantastic! The acting was great and the plot was thrilling.\n",
      "Sentiment: Positive\n",
      "Prediction Score: 0.6575831174850464\n"
     ]
    }
   ],
   "source": [
    "# Step 4: User Input and Prediction\n",
    "# Example review for prediction\n",
    "example_review = \"This movie was fantastic! The acting was great and the plot was thrilling.\"\n",
    "\n",
    "sentiment,score=predict_sentiment(example_review)\n",
    "\n",
    "print(f'Review: {example_review}')\n",
    "print(f'Sentiment: {sentiment}')\n",
    "print(f'Prediction Score: {score}')"
   ]
  }
 ],
 "metadata": {
  "kernelspec": {
   "display_name": "Python 3",
   "language": "python",
   "name": "python3"
  },
  "language_info": {
   "codemirror_mode": {
    "name": "ipython",
    "version": 3
   },
   "file_extension": ".py",
   "mimetype": "text/x-python",
   "name": "python",
   "nbconvert_exporter": "python",
   "pygments_lexer": "ipython3",
   "version": "3.11.0"
  }
 },
 "nbformat": 4,
 "nbformat_minor": 2
}
